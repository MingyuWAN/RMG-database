{
 "cells": [
  {
   "cell_type": "markdown",
   "metadata": {},
   "source": [
    "# Fit Arrhenius for reaction filtering in RMG from fastest training reactions per reaction family.\n",
    "\n",
    "This script iterates through all RMG families besides surface reaction families. For each reaction family the fastest \n",
    "training reaction for a temperature range between 300 and 2500 K are fitted into an Arrhenius fit for unimolecular\n",
    "and bimolecular reactions seperately. \n",
    "\n",
    "The Arrhenius fits are stored in a YAML file called `FilterArrheniusFits` that is read once at the beginning of an RMG run and used at each iteration to identify family specific filter criteria for reaction generation. \n",
    "\n",
    "For verification, the Arrhenius fits are stored as .png files in the folder `ArrheniusFits`.\n",
    "\n",
    "Currently, the highest rate from forward or reverse is used for the Arrhenius fit."
   ]
  },
  {
   "cell_type": "code",
   "execution_count": 1,
   "metadata": {},
   "outputs": [
    {
     "name": "stderr",
     "output_type": "stream",
     "text": [
      "Using Theano backend.\n"
     ]
    }
   ],
   "source": [
    "import os\n",
    "import numpy\n",
    "import operator\n",
    "import yaml\n",
    "import matplotlib.pyplot as plt\n",
    "%matplotlib inline\n",
    "\n",
    "from rmgpy import settings\n",
    "from rmgpy.data.rmg import RMGDatabase, getDB\n",
    "from rmgpy.kinetics.arrhenius import Arrhenius\n",
    "from rmgpy.thermo.thermoengine import submit\n",
    "from rmgpy.rmgobject import RMGObject"
   ]
  },
  {
   "cell_type": "markdown",
   "metadata": {},
   "source": [
    "## Load the database with RMG reaction families"
   ]
  },
  {
   "cell_type": "code",
   "execution_count": 2,
   "metadata": {},
   "outputs": [],
   "source": [
    "database = RMGDatabase()\n",
    "database.load(\n",
    "    settings['database.directory'], \n",
    "    thermoLibraries = [\n",
    "                'primaryThermoLibrary',\n",
    "                'Klippenstein_Glarborg2016',\n",
    "                'BurkeH2O2',\n",
    "                'thermo_DFT_CCSDTF12_BAC',\n",
    "                'CBS_QB3_1dHR', \n",
    "                'DFT_QCI_thermo',\n",
    "                'Narayanaswamy',\n",
    "                'Lai_Hexylbenzene',\n",
    "                'SABIC_aromatics',\n",
    "                'vinylCPD_H'],\n",
    "    transportLibraries = [],\n",
    "    reactionLibraries = [],\n",
    "    seedMechanisms = [],\n",
    "    kineticsFamilies = 'all',\n",
    "    kineticsDepositories = ['training'],\n",
    "    depository = False,  \n",
    ")"
   ]
  },
  {
   "cell_type": "code",
   "execution_count": 3,
   "metadata": {},
   "outputs": [],
   "source": [
    "# Get Arrhenius fits for all RMG families\n",
    "families = getDB('kinetics').families.keys()\n",
    "#families = ['H_Abstraction', 'R_Recombination', 'Surface_Dissociation_vdW']"
   ]
  },
  {
   "cell_type": "code",
   "execution_count": 4,
   "metadata": {},
   "outputs": [],
   "source": [
    "# Temperature range to fit Arrhenius\n",
    "Ts = numpy.linspace(300,2500,50)"
   ]
  },
  {
   "cell_type": "markdown",
   "metadata": {},
   "source": [
    "## Generate the Arrhenius fits and print .png figures"
   ]
  },
  {
   "cell_type": "code",
   "execution_count": 5,
   "metadata": {},
   "outputs": [],
   "source": [
    "# Helper function\n",
    "def analyze_reactions(fam_name, molecularity=1):\n",
    "    print fam_name\n",
    "    \n",
    "    fam = database.kinetics.families[fam_name]\n",
    "    dep = fam.getTrainingDepository()\n",
    "    rxns = []\n",
    "    list_indices = []\n",
    "\n",
    "    # Extract all training reactions for selected family\n",
    "    for entry in dep.entries.values():\n",
    "        r = entry.item\n",
    "        r.kinetics = entry.data\n",
    "        r.index = entry.index\n",
    "        for spc in r.reactants+r.products:\n",
    "            if spc.thermo is None:\n",
    "                submit(spc)\n",
    "        rxns.append(r)\n",
    "\n",
    "    # Only proceed if at least one training reaction is available\n",
    "    if rxns:         \n",
    "        # Get kinetic rates for unimolecular reactions\n",
    "        k_list = []\n",
    "        index_list = []\n",
    "        for rxn in rxns:\n",
    "            if len(rxn.reactants) == molecularity:\n",
    "                k_list.append(rxn.kinetics)\n",
    "                index_list.append(rxn.index)\n",
    "            if len(rxn.products) == molecularity:\n",
    "                k_list.append(rxn.generateReverseRateCoefficient())\n",
    "                index_list.append(rxn.index)\n",
    "\n",
    "        # Get max. kinetic rates at each discrete temperature\n",
    "        if k_list:\n",
    "            k_max_list = []\n",
    "            max_rxn_list = set()\n",
    "            for T in Ts:\n",
    "                mydict = {}\n",
    "                kvals = [k.getRateCoefficient(T) for k in k_list]\n",
    "                mydict = dict(zip(index_list, kvals))\n",
    "\n",
    "                # Find key and value of max rate coefficient\n",
    "                key_max_rate = max(mydict.iteritems(), key=operator.itemgetter(1))[0]\n",
    "                \n",
    "                max_entry = dep.entries.get(key_max_rate)\n",
    "                max_rxn = max_entry.item\n",
    "                max_rxn_list.add(max_rxn)\n",
    "                \n",
    "                kval = mydict[key_max_rate]\n",
    "                k_max_list.append(kval)\n",
    "                \n",
    "                #print \"\"\"For {0} 1/K training reaction {1} with index {2} has the highest rate \n",
    "                #of {3}.\"\"\".format(1000.0/T, max_entry, key_max_rate, kval)\n",
    "                \n",
    "                #if molecularity == 2:\n",
    "                #    display(max_rxn)\n",
    "                #    print \"collision limit:  {}\".format(max_rxn.calculate_coll_limit(T))\n",
    "                #    print \"collision limit agrees?\"\n",
    "                #    print [] == max_rxn.check_collision_limit_violation(300.0, 2000.0, 0.1, 100.0)\n",
    "\n",
    "            units = 's^-1' if molecularity == 1 else 'm^3/(mol*s)'\n",
    "                \n",
    "            arr = Arrhenius().fitToData(Ts,numpy.array(k_max_list), units)\n",
    "            \n",
    "            fig = plt.figure()\n",
    "            fig_name = fam_name\n",
    "            fig_name += ' Unimolecular' if molecularity == 1 else ' Bimolecular'\n",
    "            save_path = 'ArrheniusFits/'\n",
    "            plt.semilogy(1000.0/Ts, k_max_list, label=fig_name)\n",
    "            plt.xlabel(\"1000/T (1/K)\")\n",
    "            plt.ylabel(\"k ({0})\".format(units))\n",
    "            plt.legend(loc='upper left')\n",
    "            if molecularity == 1:\n",
    "                fig.savefig((save_path + fig_name + '_Unimolecular' + '.png'), bbox_inches='tight')\n",
    "            elif molecularity == 2:\n",
    "                fig.savefig((save_path + fig_name + '_Unimolecular' + '.png'), bbox_inches='tight')\n",
    "\n",
    "            plt.close(\"all\")\n",
    "            \n",
    "            return arr\n",
    "        \n",
    "    else:\n",
    "        arr = None\n",
    "        return arr\n",
    "\n",
    "            "
   ]
  },
  {
   "cell_type": "code",
   "execution_count": 6,
   "metadata": {},
   "outputs": [
    {
     "name": "stdout",
     "output_type": "stream",
     "text": [
      "H_Abstraction\n"
     ]
    },
    {
     "name": "stderr",
     "output_type": "stream",
     "text": [
      "/Users/agnes/PycharmProjects/RMG-Py/rmgpy/tools/plot.py:36: UserWarning: \n",
      "This call to matplotlib.use() has no effect because the backend has already\n",
      "been chosen; matplotlib.use() must be called *before* pylab, matplotlib.pyplot,\n",
      "or matplotlib.backends is imported for the first time.\n",
      "\n",
      "The backend was *originally* set to 'module://ipykernel.pylab.backend_inline' by the following code:\n",
      "  File \"/Users/agnes/Documents/Software/Miniconda3/envs/rmg_env/lib/python2.7/runpy.py\", line 174, in _run_module_as_main\n",
      "    \"__main__\", fname, loader, pkg_name)\n",
      "  File \"/Users/agnes/Documents/Software/Miniconda3/envs/rmg_env/lib/python2.7/runpy.py\", line 72, in _run_code\n",
      "    exec code in run_globals\n",
      "  File \"/Users/agnes/Documents/Software/Miniconda3/envs/rmg_env/lib/python2.7/site-packages/ipykernel_launcher.py\", line 16, in <module>\n",
      "    app.launch_new_instance()\n",
      "  File \"/Users/agnes/Documents/Software/Miniconda3/envs/rmg_env/lib/python2.7/site-packages/traitlets/config/application.py\", line 658, in launch_instance\n",
      "    app.start()\n",
      "  File \"/Users/agnes/Documents/Software/Miniconda3/envs/rmg_env/lib/python2.7/site-packages/ipykernel/kernelapp.py\", line 499, in start\n",
      "    self.io_loop.start()\n",
      "  File \"/Users/agnes/Documents/Software/Miniconda3/envs/rmg_env/lib/python2.7/site-packages/tornado/ioloop.py\", line 1073, in start\n",
      "    handler_func(fd_obj, events)\n",
      "  File \"/Users/agnes/Documents/Software/Miniconda3/envs/rmg_env/lib/python2.7/site-packages/tornado/stack_context.py\", line 300, in null_wrapper\n",
      "    return fn(*args, **kwargs)\n",
      "  File \"/Users/agnes/Documents/Software/Miniconda3/envs/rmg_env/lib/python2.7/site-packages/zmq/eventloop/zmqstream.py\", line 456, in _handle_events\n",
      "    self._handle_recv()\n",
      "  File \"/Users/agnes/Documents/Software/Miniconda3/envs/rmg_env/lib/python2.7/site-packages/zmq/eventloop/zmqstream.py\", line 486, in _handle_recv\n",
      "    self._run_callback(callback, msg)\n",
      "  File \"/Users/agnes/Documents/Software/Miniconda3/envs/rmg_env/lib/python2.7/site-packages/zmq/eventloop/zmqstream.py\", line 438, in _run_callback\n",
      "    callback(*args, **kwargs)\n",
      "  File \"/Users/agnes/Documents/Software/Miniconda3/envs/rmg_env/lib/python2.7/site-packages/tornado/stack_context.py\", line 300, in null_wrapper\n",
      "    return fn(*args, **kwargs)\n",
      "  File \"/Users/agnes/Documents/Software/Miniconda3/envs/rmg_env/lib/python2.7/site-packages/ipykernel/kernelbase.py\", line 283, in dispatcher\n",
      "    return self.dispatch_shell(stream, msg)\n",
      "  File \"/Users/agnes/Documents/Software/Miniconda3/envs/rmg_env/lib/python2.7/site-packages/ipykernel/kernelbase.py\", line 233, in dispatch_shell\n",
      "    handler(stream, idents, msg)\n",
      "  File \"/Users/agnes/Documents/Software/Miniconda3/envs/rmg_env/lib/python2.7/site-packages/ipykernel/kernelbase.py\", line 399, in execute_request\n",
      "    user_expressions, allow_stdin)\n",
      "  File \"/Users/agnes/Documents/Software/Miniconda3/envs/rmg_env/lib/python2.7/site-packages/ipykernel/ipkernel.py\", line 208, in do_execute\n",
      "    res = shell.run_cell(code, store_history=store_history, silent=silent)\n",
      "  File \"/Users/agnes/Documents/Software/Miniconda3/envs/rmg_env/lib/python2.7/site-packages/ipykernel/zmqshell.py\", line 537, in run_cell\n",
      "    return super(ZMQInteractiveShell, self).run_cell(*args, **kwargs)\n",
      "  File \"/Users/agnes/Documents/Software/Miniconda3/envs/rmg_env/lib/python2.7/site-packages/IPython/core/interactiveshell.py\", line 2724, in run_cell\n",
      "    self.events.trigger('post_run_cell')\n",
      "  File \"/Users/agnes/Documents/Software/Miniconda3/envs/rmg_env/lib/python2.7/site-packages/IPython/core/events.py\", line 74, in trigger\n",
      "    func(*args, **kwargs)\n",
      "  File \"/Users/agnes/Documents/Software/Miniconda3/envs/rmg_env/lib/python2.7/site-packages/ipykernel/pylab/backend_inline.py\", line 164, in configure_once\n",
      "    activate_matplotlib(backend)\n",
      "  File \"/Users/agnes/Documents/Software/Miniconda3/envs/rmg_env/lib/python2.7/site-packages/IPython/core/pylabtools.py\", line 315, in activate_matplotlib\n",
      "    matplotlib.pyplot.switch_backend(backend)\n",
      "  File \"/Users/agnes/Documents/Software/Miniconda3/envs/rmg_env/lib/python2.7/site-packages/matplotlib/pyplot.py\", line 231, in switch_backend\n",
      "    matplotlib.use(newbackend, warn=False, force=True)\n",
      "  File \"/Users/agnes/Documents/Software/Miniconda3/envs/rmg_env/lib/python2.7/site-packages/matplotlib/__init__.py\", line 1422, in use\n",
      "    reload(sys.modules['matplotlib.backends'])\n",
      "  File \"/Users/agnes/Documents/Software/Miniconda3/envs/rmg_env/lib/python2.7/site-packages/matplotlib/backends/__init__.py\", line 16, in <module>\n",
      "    line for line in traceback.format_stack()\n",
      "\n",
      "\n",
      "  mpl.use('Agg')\n",
      "/Users/agnes/Documents/Software/Miniconda3/envs/rmg_env/lib/python2.7/site-packages/scipy/optimize/optimize.py:1748: FutureWarning: `rcond` parameter will change to the default of machine precision times ``max(M, N)`` where M and N are the input matrix dimensions.\n",
      "To use the future default and silence this warning we advise to pass `rcond=None`, to keep using the old, explicitly pass `rcond=-1`.\n",
      "  fx = func(x, *args)\n",
      "/Users/agnes/Documents/Software/Miniconda3/envs/rmg_env/lib/python2.7/site-packages/scipy/optimize/optimize.py:1800: FutureWarning: `rcond` parameter will change to the default of machine precision times ``max(M, N)`` where M and N are the input matrix dimensions.\n",
      "To use the future default and silence this warning we advise to pass `rcond=None`, to keep using the old, explicitly pass `rcond=-1`.\n",
      "  fu = func(x, *args)\n",
      "/Users/agnes/PycharmProjects/RMG-Py/rmgpy/thermo/thermoengine.py:56: FutureWarning: `rcond` parameter will change to the default of machine precision times ``max(M, N)`` where M and N are the input matrix dimensions.\n",
      "To use the future default and silence this warning we advise to pass `rcond=None`, to keep using the old, explicitly pass `rcond=-1`.\n",
      "  wilhoit = thermo0.toWilhoit(B=1000.)\n"
     ]
    },
    {
     "name": "stdout",
     "output_type": "stream",
     "text": [
      "*uni_mol None\n",
      "H_Abstraction\n"
     ]
    },
    {
     "name": "stderr",
     "output_type": "stream",
     "text": [
      "/Users/agnes/Documents/Software/Miniconda3/envs/rmg_env/lib/python2.7/site-packages/ipykernel_launcher.py:30: FutureWarning: `rcond` parameter will change to the default of machine precision times ``max(M, N)`` where M and N are the input matrix dimensions.\n",
      "To use the future default and silence this warning we advise to pass `rcond=None`, to keep using the old, explicitly pass `rcond=-1`.\n",
      "/Users/agnes/Documents/Software/Miniconda3/envs/rmg_env/lib/python2.7/site-packages/ipykernel_launcher.py:63: FutureWarning: `rcond` parameter will change to the default of machine precision times ``max(M, N)`` where M and N are the input matrix dimensions.\n",
      "To use the future default and silence this warning we advise to pass `rcond=None`, to keep using the old, explicitly pass `rcond=-1`.\n"
     ]
    },
    {
     "name": "stdout",
     "output_type": "stream",
     "text": [
      "*bi_mol Arrhenius(A=(5.64568e-55,'m^3/(mol*s)'), n=17.7991, Ea=(-341.909,'kJ/mol'), T0=(1,'K'), Tmin=(300,'K'), Tmax=(2500,'K'), comment=\"\"\"Fitted to 50 data points; dA = *|/ 73695.3, dn = +|- 1.41862, dEa = +|- 9.88989 kJ/mol\"\"\")\n",
      "R_Recombination\n",
      "*uni_mol Arrhenius(A=(2.78461e-43,'s^-1'), n=16.6777, Ea=(-123.705,'kJ/mol'), T0=(1,'K'), Tmin=(300,'K'), Tmax=(2500,'K'), comment=\"\"\"Fitted to 50 data points; dA = *|/ 217409, dn = +|- 1.55555, dEa = +|- 10.8445 kJ/mol\"\"\")\n",
      "R_Recombination\n",
      "*bi_mol Arrhenius(A=(5.5302e+10,'m^3/(mol*s)'), n=-0.0163042, Ea=(-191.114,'kJ/mol'), T0=(1,'K'), Tmin=(300,'K'), Tmax=(2500,'K'), comment=\"\"\"Fitted to 50 data points; dA = *|/ 1, dn = +|- 3.79035e-15, dEa = +|- 2.64244e-14 kJ/mol\"\"\")\n",
      "Surface_Dissociation_vdW\n",
      "*uni_mol None\n",
      "*bi_mol None\n"
     ]
    }
   ],
   "source": [
    "# Main - Arrhenius fitting\n",
    "families_unimol = []\n",
    "fits_unimol = []\n",
    "families_bimol = []\n",
    "fits_bimol = []\n",
    "\n",
    "for family in families:\n",
    "    # Update this script once training reaction generation for surface families works better\n",
    "    if 'Surface' not in family:\n",
    "        # Unimolecular reactions\n",
    "        arr_uni = analyze_reactions(family, molecularity=1)\n",
    "        families_unimol.append(family)\n",
    "        fits_unimol.append(arr_uni)\n",
    "        print \"*uni_mol {0}\".format(arr_uni)\n",
    "        \n",
    "        # Bimolecular reactions\n",
    "        arr_bi = analyze_reactions(family, molecularity=2)\n",
    "        families_bimol.append(family)\n",
    "        fits_bimol.append(arr_bi)\n",
    "        print \"*bi_mol {0}\".format(arr_bi)\n",
    "    else:\n",
    "        print family\n",
    "        families_unimol.append(family)\n",
    "        fits_unimol.append(None)\n",
    "        print \"*uni_mol {0}\".format(None)\n",
    "        \n",
    "        families_bimol.append(family)\n",
    "        fits_bimol.append(None)\n",
    "        print \"*bi_mol {0}\".format(None)\n",
    "        \n",
    "# Generate a dictionary for unimolecular and bimolecular Arrhenius fits and the corresponding reaction family name\n",
    "dict_unimol = dict(zip(families_unimol, fits_unimol))\n",
    "dict_bimol = dict(zip(families_bimol, fits_bimol))"
   ]
  },
  {
   "cell_type": "markdown",
   "metadata": {},
   "source": [
    "## Save Arrhenius fits in YAML file"
   ]
  },
  {
   "cell_type": "code",
   "execution_count": 7,
   "metadata": {},
   "outputs": [],
   "source": [
    "# Helper functions for ArrheniusRMGObject\n",
    "class ArrheniusRMGObject(RMGObject):\n",
    "    \"\"\"\n",
    "    Child class of RMG Object for storing filter Arrhenius fits.\n",
    "    \"\"\"\n",
    "\n",
    "    def __init__(self, unimol=None, bimol=None):\n",
    "        if unimol:\n",
    "            self.unimol = unimol\n",
    "        else:\n",
    "            self.unimol = {}\n",
    "        if bimol:\n",
    "            self.bimol = bimol\n",
    "        else:\n",
    "            self.bimol = {}\n",
    "        \n",
    "    def save_yaml(self, path):\n",
    "        \"\"\"\n",
    "        Save the data to a .yml file\n",
    "        \"\"\"\n",
    "        full_path = os.path.join(path)\n",
    "        with open(full_path, 'a+') as f:\n",
    "            yaml.dump(data=self.as_dict(), stream=f)\n",
    "          "
   ]
  },
  {
   "cell_type": "code",
   "execution_count": 8,
   "metadata": {},
   "outputs": [],
   "source": [
    "# Generate empty ArrheniusRMGObject\n",
    "obj = ArrheniusRMGObject(unimol=dict_unimol, bimol=dict_bimol)"
   ]
  },
  {
   "cell_type": "code",
   "execution_count": 9,
   "metadata": {},
   "outputs": [],
   "source": [
    "# Path to YAML file with stored Arrhenius fits\n",
    "path = '../input/FilterArrheniusFits'\n",
    "f = open(path, 'w')\n",
    "\n",
    "obj.save_yaml(path)"
   ]
  }
 ],
 "metadata": {
  "kernelspec": {
   "display_name": "Python 2",
   "language": "python",
   "name": "python2"
  },
  "language_info": {
   "codemirror_mode": {
    "name": "ipython",
    "version": 2
   },
   "file_extension": ".py",
   "mimetype": "text/x-python",
   "name": "python",
   "nbconvert_exporter": "python",
   "pygments_lexer": "ipython2",
   "version": "2.7.16"
  }
 },
 "nbformat": 4,
 "nbformat_minor": 2
}
